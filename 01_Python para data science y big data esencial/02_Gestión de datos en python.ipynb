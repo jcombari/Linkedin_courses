{
 "cells": [
  {
   "cell_type": "markdown",
   "id": "c97572d5",
   "metadata": {},
   "source": [
    "# Introducción  a Pandas"
   ]
  },
  {
   "cell_type": "code",
   "execution_count": 1,
   "id": "6aa03ff4",
   "metadata": {},
   "outputs": [],
   "source": [
    "import pandas as pd"
   ]
  },
  {
   "cell_type": "code",
   "execution_count": null,
   "id": "9c92ee0e",
   "metadata": {},
   "outputs": [],
   "source": [
    "df=pd.read()"
   ]
  },
  {
   "cell_type": "markdown",
   "id": "0d10df77",
   "metadata": {},
   "source": [
    " # Filtrar datos en python"
   ]
  },
  {
   "cell_type": "markdown",
   "id": "8b6d1f31",
   "metadata": {},
   "source": [
    "# Transformaciones de la base datos"
   ]
  },
  {
   "cell_type": "markdown",
   "id": "4baa91d5",
   "metadata": {},
   "source": [
    "# Groupby: obtener información esencial"
   ]
  },
  {
   "cell_type": "markdown",
   "id": "fb3ddf34",
   "metadata": {},
   "source": [
    "# Tratar datos duplicados y perdidos"
   ]
  },
  {
   "cell_type": "markdown",
   "id": "1a61cb1c",
   "metadata": {},
   "source": [
    "# Introducción a la librería de Numpy"
   ]
  },
  {
   "cell_type": "markdown",
   "id": "61586ce2",
   "metadata": {},
   "source": [
    "# Test capítulo"
   ]
  }
 ],
 "metadata": {
  "kernelspec": {
   "display_name": "Python 3 (ipykernel)",
   "language": "python",
   "name": "python3"
  },
  "language_info": {
   "codemirror_mode": {
    "name": "ipython",
    "version": 3
   },
   "file_extension": ".py",
   "mimetype": "text/x-python",
   "name": "python",
   "nbconvert_exporter": "python",
   "pygments_lexer": "ipython3",
   "version": "3.9.7"
  }
 },
 "nbformat": 4,
 "nbformat_minor": 5
}
