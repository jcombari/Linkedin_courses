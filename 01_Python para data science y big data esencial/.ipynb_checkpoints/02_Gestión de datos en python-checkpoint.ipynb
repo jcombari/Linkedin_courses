{
 "cells": [
  {
   "cell_type": "markdown",
   "id": "7a8476c2",
   "metadata": {},
   "source": [
    "# Introducción  a Pandas"
   ]
  },
  {
   "cell_type": "code",
   "execution_count": null,
   "id": "dae64a3f",
   "metadata": {},
   "outputs": [],
   "source": []
  },
  {
   "cell_type": "markdown",
   "id": "5a425cd1",
   "metadata": {},
   "source": [
    " # Filtrar datos en python"
   ]
  },
  {
   "cell_type": "markdown",
   "id": "49460cdc",
   "metadata": {},
   "source": [
    "# Transformaciones de la base datos"
   ]
  },
  {
   "cell_type": "markdown",
   "id": "43c94a9d",
   "metadata": {},
   "source": [
    "# Groupby: obtener información esencial"
   ]
  },
  {
   "cell_type": "markdown",
   "id": "d299725d",
   "metadata": {},
   "source": [
    "# Tratar datos duplicados y perdidos"
   ]
  },
  {
   "cell_type": "markdown",
   "id": "138e3560",
   "metadata": {},
   "source": [
    "# Introducción a la librería de Numpy"
   ]
  },
  {
   "cell_type": "markdown",
   "id": "a50d1e41",
   "metadata": {},
   "source": [
    "# Test capítulo"
   ]
  }
 ],
 "metadata": {
  "kernelspec": {
   "display_name": "Python 3 (ipykernel)",
   "language": "python",
   "name": "python3"
  },
  "language_info": {
   "codemirror_mode": {
    "name": "ipython",
    "version": 3
   },
   "file_extension": ".py",
   "mimetype": "text/x-python",
   "name": "python",
   "nbconvert_exporter": "python",
   "pygments_lexer": "ipython3",
   "version": "3.9.7"
  }
 },
 "nbformat": 4,
 "nbformat_minor": 5
}
