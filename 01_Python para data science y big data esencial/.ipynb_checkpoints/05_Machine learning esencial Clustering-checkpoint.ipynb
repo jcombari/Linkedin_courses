{
 "cells": [
  {
   "cell_type": "markdown",
   "id": "ceaf9927",
   "metadata": {},
   "source": [
    "# Prepara los datos para machine learning"
   ]
  },
  {
   "cell_type": "code",
   "execution_count": 3,
   "id": "44b6a863",
   "metadata": {},
   "outputs": [],
   "source": [
    "import pandas as  pd\n",
    "import numpy as np\n",
    "from sklearn import preprocessing\n",
    "\n",
    "df = pd.read_csv(\"C:/Users/jenny/Documents/GITHUB/Linkedin_courses_bbdd/base_datos_2008.csv\", nrows=100000)\n",
    "\n",
    "df=df[[\"ArrDelay\",\"DepDelay\",\"Distance\",\"AirTime\"]].dropna()"
   ]
  },
  {
   "cell_type": "code",
   "execution_count": 4,
   "id": "a33dffcf",
   "metadata": {},
   "outputs": [
    {
     "data": {
      "text/plain": [
       "array([[-0.63713243, -0.08247884,  0.40657043,  0.4452521 ],\n",
       "       [-0.12045009,  0.3068154 ,  0.40657043,  0.38990966],\n",
       "       [ 0.26706167, -0.08247884, -0.26709367, -0.29264705],\n",
       "       ...,\n",
       "       [ 1.84940134,  2.18250582,  0.53445243,  0.31611975],\n",
       "       [ 0.17018373,  0.37759617,  0.53445243,  0.1869874 ],\n",
       "       [ 0.17018373, -0.25943077,  0.53445243,  0.22388235]])"
      ]
     },
     "execution_count": 4,
     "metadata": {},
     "output_type": "execute_result"
    }
   ],
   "source": [
    "X_scaled=preprocessing.scale(df) #Base normalizada\n",
    "X_scaled"
   ]
  },
  {
   "cell_type": "markdown",
   "id": "66206140",
   "metadata": {},
   "source": [
    "confirmemos que tiene media cero y varianza uno"
   ]
  },
  {
   "cell_type": "code",
   "execution_count": 5,
   "id": "ffb37370",
   "metadata": {},
   "outputs": [
    {
     "data": {
      "text/plain": [
       "array([1., 1., 1., 1.])"
      ]
     },
     "execution_count": 5,
     "metadata": {},
     "output_type": "execute_result"
    }
   ],
   "source": [
    "X_scaled.std(axis=0)"
   ]
  },
  {
   "cell_type": "code",
   "execution_count": 6,
   "id": "29783269",
   "metadata": {},
   "outputs": [
    {
     "data": {
      "text/plain": [
       "array([2.47651119e-17, 1.07267490e-17, 1.19506063e-16, 1.01364179e-16])"
      ]
     },
     "execution_count": 6,
     "metadata": {},
     "output_type": "execute_result"
    }
   ],
   "source": [
    "X_scaled.mean(axis=0)"
   ]
  },
  {
   "cell_type": "code",
   "execution_count": 7,
   "id": "5c89ab85",
   "metadata": {},
   "outputs": [
    {
     "data": {
      "text/plain": [
       "ArrDelay     14.0\n",
       "DepDelay      8.0\n",
       "Distance    515.0\n",
       "AirTime      76.0\n",
       "Name: 2, dtype: float64"
      ]
     },
     "execution_count": 7,
     "metadata": {},
     "output_type": "execute_result"
    }
   ],
   "source": [
    "df.iloc[2]"
   ]
  },
  {
   "cell_type": "code",
   "execution_count": 8,
   "id": "d533d107",
   "metadata": {},
   "outputs": [
    {
     "data": {
      "text/plain": [
       "array([ 0.26706167, -0.08247884, -0.26709367, -0.29264705])"
      ]
     },
     "execution_count": 8,
     "metadata": {},
     "output_type": "execute_result"
    }
   ],
   "source": [
    "X_scaled[2]"
   ]
  },
  {
   "cell_type": "code",
   "execution_count": 9,
   "id": "5ef8a65a",
   "metadata": {},
   "outputs": [
    {
     "data": {
      "text/plain": [
       "array([[0.77199282, 0.92857143, 3.15557514, 2.91316527],\n",
       "       [1.05924596, 1.125     , 3.15557514, 2.82913165],\n",
       "       [1.27468582, 0.92857143, 1.85544293, 1.79271709],\n",
       "       ...,\n",
       "       [2.15439856, 2.07142857, 3.4023799 , 2.71708683],\n",
       "       [1.22082585, 1.16071429, 3.4023799 , 2.5210084 ],\n",
       "       [1.22082585, 0.83928571, 3.4023799 , 2.57703081]])"
      ]
     },
     "execution_count": 9,
     "metadata": {},
     "output_type": "execute_result"
    }
   ],
   "source": [
    "#OTro tipo de escala\n",
    "min_max_scaler = preprocessing.MinMaxScaler([0,10])\n",
    "X_train_minmax=min_max_scaler.fit_transform(df)\n",
    "X_train_minmax"
   ]
  },
  {
   "cell_type": "code",
   "execution_count": 10,
   "id": "a9374f4a",
   "metadata": {},
   "outputs": [
    {
     "data": {
      "text/html": [
       "<div>\n",
       "<style scoped>\n",
       "    .dataframe tbody tr th:only-of-type {\n",
       "        vertical-align: middle;\n",
       "    }\n",
       "\n",
       "    .dataframe tbody tr th {\n",
       "        vertical-align: top;\n",
       "    }\n",
       "\n",
       "    .dataframe thead th {\n",
       "        text-align: right;\n",
       "    }\n",
       "</style>\n",
       "<table border=\"1\" class=\"dataframe\">\n",
       "  <thead>\n",
       "    <tr style=\"text-align: right;\">\n",
       "      <th></th>\n",
       "      <th>IAD</th>\n",
       "      <th>IND</th>\n",
       "      <th>ISP</th>\n",
       "      <th>JAN</th>\n",
       "      <th>JAX</th>\n",
       "      <th>LAS</th>\n",
       "    </tr>\n",
       "  </thead>\n",
       "  <tbody>\n",
       "    <tr>\n",
       "      <th>0</th>\n",
       "      <td>1</td>\n",
       "      <td>0</td>\n",
       "      <td>0</td>\n",
       "      <td>0</td>\n",
       "      <td>0</td>\n",
       "      <td>0</td>\n",
       "    </tr>\n",
       "    <tr>\n",
       "      <th>1</th>\n",
       "      <td>1</td>\n",
       "      <td>0</td>\n",
       "      <td>0</td>\n",
       "      <td>0</td>\n",
       "      <td>0</td>\n",
       "      <td>0</td>\n",
       "    </tr>\n",
       "    <tr>\n",
       "      <th>2</th>\n",
       "      <td>0</td>\n",
       "      <td>1</td>\n",
       "      <td>0</td>\n",
       "      <td>0</td>\n",
       "      <td>0</td>\n",
       "      <td>0</td>\n",
       "    </tr>\n",
       "    <tr>\n",
       "      <th>3</th>\n",
       "      <td>0</td>\n",
       "      <td>1</td>\n",
       "      <td>0</td>\n",
       "      <td>0</td>\n",
       "      <td>0</td>\n",
       "      <td>0</td>\n",
       "    </tr>\n",
       "    <tr>\n",
       "      <th>4</th>\n",
       "      <td>0</td>\n",
       "      <td>1</td>\n",
       "      <td>0</td>\n",
       "      <td>0</td>\n",
       "      <td>0</td>\n",
       "      <td>0</td>\n",
       "    </tr>\n",
       "    <tr>\n",
       "      <th>...</th>\n",
       "      <td>...</td>\n",
       "      <td>...</td>\n",
       "      <td>...</td>\n",
       "      <td>...</td>\n",
       "      <td>...</td>\n",
       "      <td>...</td>\n",
       "    </tr>\n",
       "    <tr>\n",
       "      <th>95</th>\n",
       "      <td>0</td>\n",
       "      <td>0</td>\n",
       "      <td>0</td>\n",
       "      <td>0</td>\n",
       "      <td>0</td>\n",
       "      <td>1</td>\n",
       "    </tr>\n",
       "    <tr>\n",
       "      <th>96</th>\n",
       "      <td>0</td>\n",
       "      <td>0</td>\n",
       "      <td>0</td>\n",
       "      <td>0</td>\n",
       "      <td>0</td>\n",
       "      <td>1</td>\n",
       "    </tr>\n",
       "    <tr>\n",
       "      <th>97</th>\n",
       "      <td>0</td>\n",
       "      <td>0</td>\n",
       "      <td>0</td>\n",
       "      <td>0</td>\n",
       "      <td>0</td>\n",
       "      <td>1</td>\n",
       "    </tr>\n",
       "    <tr>\n",
       "      <th>98</th>\n",
       "      <td>0</td>\n",
       "      <td>0</td>\n",
       "      <td>0</td>\n",
       "      <td>0</td>\n",
       "      <td>0</td>\n",
       "      <td>1</td>\n",
       "    </tr>\n",
       "    <tr>\n",
       "      <th>99</th>\n",
       "      <td>0</td>\n",
       "      <td>0</td>\n",
       "      <td>0</td>\n",
       "      <td>0</td>\n",
       "      <td>0</td>\n",
       "      <td>1</td>\n",
       "    </tr>\n",
       "  </tbody>\n",
       "</table>\n",
       "<p>100 rows × 6 columns</p>\n",
       "</div>"
      ],
      "text/plain": [
       "    IAD  IND  ISP  JAN  JAX  LAS\n",
       "0     1    0    0    0    0    0\n",
       "1     1    0    0    0    0    0\n",
       "2     0    1    0    0    0    0\n",
       "3     0    1    0    0    0    0\n",
       "4     0    1    0    0    0    0\n",
       "..  ...  ...  ...  ...  ...  ...\n",
       "95    0    0    0    0    0    1\n",
       "96    0    0    0    0    0    1\n",
       "97    0    0    0    0    0    1\n",
       "98    0    0    0    0    0    1\n",
       "99    0    0    0    0    0    1\n",
       "\n",
       "[100 rows x 6 columns]"
      ]
     },
     "execution_count": 10,
     "metadata": {},
     "output_type": "execute_result"
    }
   ],
   "source": [
    "df = pd.read_csv(\"C:/Users/jenny/Documents/GITHUB/Linkedin_courses_bbdd/base_datos_2008.csv\", nrows=100)\n",
    "pd.get_dummies(df[\"Origin\"])\n"
   ]
  },
  {
   "cell_type": "markdown",
   "id": "47b66f80",
   "metadata": {},
   "source": [
    "Usar dummy consumo mucha memoria por la cantidad de variables"
   ]
  },
  {
   "cell_type": "markdown",
   "id": "ccc0ca26",
   "metadata": {},
   "source": [
    "# Resumen K medias\n",
    "Segmenta los datos en grupos previamente predefinidos con igual varianza dentro de cada cluster"
   ]
  },
  {
   "cell_type": "code",
   "execution_count": 24,
   "id": "2eb55917",
   "metadata": {},
   "outputs": [],
   "source": [
    "import pandas as  pd\n",
    "import numpy as np\n",
    "from sklearn.cluster import KMeans\n",
    "import matplotlib.pyplot as plt\n",
    "\n",
    "df = pd.read_csv(\"C:/Users/jenny/Documents/GITHUB/Linkedin_courses_bbdd/base_datos_2008.csv\", nrows=1e5)\n",
    "newdf=df[[\"AirTime\",\"DepDelay\"]].dropna()"
   ]
  },
  {
   "cell_type": "code",
   "execution_count": 25,
   "id": "290b934e",
   "metadata": {},
   "outputs": [],
   "source": [
    "newdf=df[[\"AirTime\",\"Distance\", \"TaxiOut\",\"ArrDelay\",\"DepDelay\"]].dropna()"
   ]
  },
  {
   "cell_type": "code",
   "execution_count": 26,
   "id": "d49275d6",
   "metadata": {},
   "outputs": [
    {
     "data": {
      "text/plain": [
       "array([3, 3, 3, ..., 2, 2, 2])"
      ]
     },
     "execution_count": 26,
     "metadata": {},
     "output_type": "execute_result"
    }
   ],
   "source": [
    "kmeans=KMeans(n_clusters=4,random_state=0).fit(newdf)\n",
    "kmeans.labels_"
   ]
  },
  {
   "cell_type": "code",
   "execution_count": 27,
   "id": "5bb235b4",
   "metadata": {},
   "outputs": [
    {
     "data": {
      "text/plain": [
       "(array([0, 1, 2, 3]), array([50083,  8064, 18395, 22156], dtype=int64))"
      ]
     },
     "execution_count": 27,
     "metadata": {},
     "output_type": "execute_result"
    }
   ],
   "source": [
    "np.unique(kmeans.labels_,return_counts=True)"
   ]
  },
  {
   "cell_type": "code",
   "execution_count": 30,
   "id": "b3c57ad1",
   "metadata": {},
   "outputs": [],
   "source": [
    "import matplotlib.pyplot as plt"
   ]
  },
  {
   "cell_type": "code",
   "execution_count": 32,
   "id": "306425a6",
   "metadata": {},
   "outputs": [
    {
     "data": {
      "text/plain": [
       "<matplotlib.collections.PathCollection at 0x17c46593970>"
      ]
     },
     "execution_count": 32,
     "metadata": {},
     "output_type": "execute_result"
    },
    {
     "data": {
      "image/png": "[encoded data removed]",
      "text/plain": [
       "<Figure size 432x288 with 1 Axes>"
      ]
     },
     "metadata": {
      "needs_background": "light"
     },
     "output_type": "display_data"
    }
   ],
   "source": [
    "plt.scatter(newdf[\"AirTime\"],newdf[\"DepDelay\"], c=kmeans.labels_)"
   ]
  },
  {
   "cell_type": "markdown",
   "id": "e19ff832",
   "metadata": {},
   "source": [
    "Tenemos grupos muy dispersos"
   ]
  },
  {
   "cell_type": "code",
   "execution_count": 33,
   "id": "f574dd30",
   "metadata": {},
   "outputs": [
    {
     "data": {
      "text/plain": [
       "array([[5.35836262e+01, 3.16468730e+02, 1.07103634e+01, 8.67991214e+00,\n",
       "        1.07465256e+01],\n",
       "       [2.21592304e+02, 1.72573818e+03, 1.16780500e+01, 2.47178916e+00,\n",
       "        1.27295224e+01],\n",
       "       [1.40527991e+02, 1.02581486e+03, 1.12549372e+01, 8.55720581e-01,\n",
       "        8.87693814e+00],\n",
       "       [9.06951478e+01, 6.19347506e+02, 1.08650418e+01, 4.29424509e+00,\n",
       "        9.72110133e+00]])"
      ]
     },
     "execution_count": 33,
     "metadata": {},
     "output_type": "execute_result"
    }
   ],
   "source": [
    "kmeans.cluster_centers_"
   ]
  },
  {
   "cell_type": "code",
   "execution_count": 34,
   "id": "92714c17",
   "metadata": {},
   "outputs": [],
   "source": [
    "alldf = pd.read_csv(\"C:/Users/jenny/Documents/GITHUB/Linkedin_courses_bbdd/base_datos_2008.csv\", nrows=1000000)"
   ]
  },
  {
   "cell_type": "code",
   "execution_count": 36,
   "id": "0ea90488",
   "metadata": {},
   "outputs": [],
   "source": [
    "#kmeans.predict(alldf)[0:50]"
   ]
  },
  {
   "cell_type": "markdown",
   "id": "6ef43d0b",
   "metadata": {},
   "source": [
    "# Algoritmo de hierachical clustering\n",
    "\n",
    "* Es un algoritmo basado de la distancia entre individuos\n",
    "* Usualmente se usa la distancia euclídea"
   ]
  },
  {
   "cell_type": "code",
   "execution_count": null,
   "id": "3320b67a",
   "metadata": {},
   "outputs": [],
   "source": []
  }
 ],
 "metadata": {
  "kernelspec": {
   "display_name": "Python 3 (ipykernel)",
   "language": "python",
   "name": "python3"
  },
  "language_info": {
   "codemirror_mode": {
    "name": "ipython",
    "version": 3
   },
   "file_extension": ".py",
   "mimetype": "text/x-python",
   "name": "python",
   "nbconvert_exporter": "python",
   "pygments_lexer": "ipython3",
   "version": "3.9.7"
  }
 },
 "nbformat": 4,
 "nbformat_minor": 5
}
