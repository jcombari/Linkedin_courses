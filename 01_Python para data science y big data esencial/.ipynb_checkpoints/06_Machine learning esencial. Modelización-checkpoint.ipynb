{
 "cells": [
  {
   "cell_type": "markdown",
   "id": "271f7a3d",
   "metadata": {},
   "source": [
    "# Regresión líneal\n",
    "\n",
    "Relación de dependencia entre variables numéricas\n",
    "Objetivo minimizar la distancia cuadratico entre los puntos respecto a una recta.\n",
    "\n",
    "Supuestos:\n",
    "* Regresión lineal entre las variables , al incrementar en una unidad aumenta beta veces\n",
    "* Errores en la medición de las variables explicativas sean independientes\n",
    "* Errores varianza constantes (homocedasticos) si por ejemplo si predecimos los salarios en base la edad, los errores de ajustes son los mismos para gente joven como para adultos.\n",
    "* Los errores tienen esperanza cero\n",
    "* El error total es la suma de todos los errores"
   ]
  },
  {
   "cell_type": "code",
   "execution_count": 3,
   "id": "e1b05dfc",
   "metadata": {},
   "outputs": [],
   "source": [
    "import pandas as  pd\n",
    "import numpy as np\n",
    "from sklearn import datasets, linear_model\n",
    "from sklearn.metrics import mean_squared_error, r2_score\n",
    "import matplotlib.pyplot as plt\n",
    "df = pd.read_csv(\"C:/Users/jenny/Documents/GITHUB/Linkedin_courses_bbdd/base_datos_2008.csv\")\n"
   ]
  },
  {
   "cell_type": "code",
   "execution_count": 7,
   "id": "2b31c50e",
   "metadata": {},
   "outputs": [],
   "source": [
    "df=df.dropna(subset=[\"ArrDelay\"])\n",
    "df=df.sample(frac=1).head(100000)\n",
    "Y=df[[\"ArrDelay\"]]\n",
    "X=df[[\"DepDelay\"]]"
   ]
  },
  {
   "cell_type": "code",
   "execution_count": 8,
   "id": "638e1401",
   "metadata": {},
   "outputs": [
    {
     "data": {
      "text/plain": [
       "Index(['Year', 'Month', 'DayofMonth', 'DayOfWeek', 'DepTime', 'CRSDepTime',\n",
       "       'ArrTime', 'CRSArrTime', 'UniqueCarrier', 'FlightNum', 'TailNum',\n",
       "       'ActualElapsedTime', 'CRSElapsedTime', 'AirTime', 'ArrDelay',\n",
       "       'DepDelay', 'Origin', 'Dest', 'Distance', 'TaxiIn', 'TaxiOut',\n",
       "       'Cancelled', 'CancellationCode', 'Diverted', 'CarrierDelay',\n",
       "       'WeatherDelay', 'NASDelay', 'SecurityDelay', 'LateAircraftDelay'],\n",
       "      dtype='object')"
      ]
     },
     "execution_count": 8,
     "metadata": {},
     "output_type": "execute_result"
    }
   ],
   "source": [
    "df.columns"
   ]
  },
  {
   "cell_type": "code",
   "execution_count": 10,
   "id": "0a4f1a5b",
   "metadata": {},
   "outputs": [
    {
     "name": "stdout",
     "output_type": "stream",
     "text": [
      "Coeficientes:  [[1.01911691]]\n",
      "R cuadrado:  0.8697165491240476\n"
     ]
    }
   ],
   "source": [
    "regr = linear_model.LinearRegression()\n",
    "regr.fit(X,Y)\n",
    "\n",
    "print(\"Coeficientes: \", regr.coef_)\n",
    "Y_pred =regr.predict(X)\n",
    "print(\"R cuadrado: \", r2_score(Y,Y_pred)) # Porcentaje de varianza capturado por el modelo"
   ]
  },
  {
   "cell_type": "code",
   "execution_count": 11,
   "id": "aa1265af",
   "metadata": {},
   "outputs": [
    {
     "data": {
      "image/png": "[encoded data removed]",
      "text/plain": [
       "<Figure size 432x288 with 1 Axes>"
      ]
     },
     "metadata": {
      "needs_background": "light"
     },
     "output_type": "display_data"
    }
   ],
   "source": [
    "plt.scatter(X[1:10000],Y[1:10000], color=\"black\")\n",
    "plt.plot(X[1:10000],Y[1:10000], color=\"Blue\")\n",
    "plt.show()"
   ]
  },
  {
   "cell_type": "code",
   "execution_count": 12,
   "id": "6fd1efb9",
   "metadata": {},
   "outputs": [],
   "source": [
    "#Para variables categóricas\n",
    "X=df[[\"AirTime\", \"Distance\",\"TaxiIn\",\"TaxiOut\"]]\n",
    "df[\"Month\"] = df[\"Month\"].apply(str)\n",
    "df[\"DayofMonth\"] = df[\"DayofMonth\"].apply(str)\n",
    "df[\"DayOfWeek\"] = df[\"DayOfWeek\"].apply(str)\n",
    "\n",
    "dummies = pd.get_dummies(data = df[[\"Month\",\"DayofMonth\",\"DayOfWeek\", \"Origin\",\"Dest\"]])\n",
    "X = dummies.add(X, fill_value=0)"
   ]
  },
  {
   "cell_type": "code",
   "execution_count": 14,
   "id": "0767ea04",
   "metadata": {},
   "outputs": [
    {
     "data": {
      "text/plain": [
       "Index(['AirTime', 'DayOfWeek_1', 'DayOfWeek_2', 'DayOfWeek_3', 'DayOfWeek_4',\n",
       "       'DayOfWeek_5', 'DayOfWeek_6', 'DayOfWeek_7', 'DayofMonth_1',\n",
       "       'DayofMonth_10',\n",
       "       ...\n",
       "       'Origin_VLD', 'Origin_VPS', 'Origin_WRG', 'Origin_WYS', 'Origin_XNA',\n",
       "       'Origin_YAK', 'Origin_YKM', 'Origin_YUM', 'TaxiIn', 'TaxiOut'],\n",
       "      dtype='object', length=649)"
      ]
     },
     "execution_count": 14,
     "metadata": {},
     "output_type": "execute_result"
    }
   ],
   "source": [
    "X.columns"
   ]
  },
  {
   "cell_type": "code",
   "execution_count": 15,
   "id": "d8a768ee",
   "metadata": {},
   "outputs": [
    {
     "name": "stdout",
     "output_type": "stream",
     "text": [
      "R cuadrado:  0.17877364878325108\n"
     ]
    }
   ],
   "source": [
    "regr= linear_model.LinearRegression()\n",
    "regr.fit(X,Y)\n",
    "Y_pred = regr.predict(X)\n",
    "print(\"R cuadrado: \", r2_score(Y,Y_pred))"
   ]
  },
  {
   "cell_type": "code",
   "execution_count": 16,
   "id": "a59b8b47",
   "metadata": {},
   "outputs": [],
   "source": [
    "X = X.add(df[[\"DepDelay\"]], fill_value=0)"
   ]
  },
  {
   "cell_type": "code",
   "execution_count": 17,
   "id": "2a6998d2",
   "metadata": {},
   "outputs": [
    {
     "name": "stdout",
     "output_type": "stream",
     "text": [
      "R cuadrado:  0.9721838309437931\n"
     ]
    }
   ],
   "source": [
    "regr = linear_model.LinearRegression()\n",
    "regr.fit(X,Y)\n",
    "\n",
    "Y_pred = regr.predict(X)\n",
    "print(\"R cuadrado: \", r2_score(Y,Y_pred))"
   ]
  },
  {
   "cell_type": "markdown",
   "id": "62cc0c8a",
   "metadata": {},
   "source": [
    "# Regresión logística\n",
    "\n",
    "Predice probabilidad\n",
    "Se utiliza como modelo binario\n",
    "\n",
    "Para obtener la probabilidad que ocurra una determinada cateoría se aplica función logística.\n",
    "\n"
   ]
  },
  {
   "cell_type": "code",
   "execution_count": 18,
   "id": "f3d729d4",
   "metadata": {},
   "outputs": [],
   "source": [
    "import pandas as  pd\n",
    "import numpy as np\n",
    "from sklearn.linear_model import LogisticRegression\n",
    "from sklearn.metrics import confusion_matrix\n",
    "import matplotlib.pyplot as plt\n",
    "df = pd.read_csv(\"C:/Users/jenny/Documents/GITHUB/Linkedin_courses_bbdd/base_datos_2008.csv\")"
   ]
  },
  {
   "cell_type": "code",
   "execution_count": 20,
   "id": "d6c772bf",
   "metadata": {},
   "outputs": [],
   "source": [
    "df = df.dropna(subset=[\"ArrDelay\"])\n",
    "df = df.sample(frac=1).head(100000)\n",
    "Y=df[\"ArrDelay\"]<30\n",
    "X=df[[\"DepDelay\"]]"
   ]
  },
  {
   "cell_type": "code",
   "execution_count": 21,
   "id": "41e7e1b0",
   "metadata": {},
   "outputs": [],
   "source": [
    "logreg =LogisticRegression()\n",
    "logreg.fit(X,Y)\n",
    "Y_pred = logreg.predict(X)"
   ]
  },
  {
   "cell_type": "code",
   "execution_count": 22,
   "id": "e50723e0",
   "metadata": {},
   "outputs": [
    {
     "data": {
      "text/plain": [
       "array([[0.162, 0.838],\n",
       "       [0.014, 0.986],\n",
       "       [0.006, 0.994],\n",
       "       ...,\n",
       "       [0.048, 0.952],\n",
       "       [0.219, 0.781],\n",
       "       [0.011, 0.989]])"
      ]
     },
     "execution_count": 22,
     "metadata": {},
     "output_type": "execute_result"
    }
   ],
   "source": [
    "np.round(logreg.predict_proba(X),3)"
   ]
  },
  {
   "cell_type": "code",
   "execution_count": 23,
   "id": "f740ae88",
   "metadata": {},
   "outputs": [
    {
     "data": {
      "text/plain": [
       "0.95594"
      ]
     },
     "execution_count": 23,
     "metadata": {},
     "output_type": "execute_result"
    }
   ],
   "source": [
    "np.mean(Y_pred == Y)"
   ]
  },
  {
   "cell_type": "code",
   "execution_count": 24,
   "id": "74ef365f",
   "metadata": {},
   "outputs": [
    {
     "data": {
      "text/plain": [
       "0.86407"
      ]
     },
     "execution_count": 24,
     "metadata": {},
     "output_type": "execute_result"
    }
   ],
   "source": [
    "np.mean(Y)"
   ]
  },
  {
   "cell_type": "code",
   "execution_count": 25,
   "id": "84d6cfb3",
   "metadata": {},
   "outputs": [
    {
     "name": "stdout",
     "output_type": "stream",
     "text": [
      "[[10264  3329]\n",
      " [ 1077 85330]]\n"
     ]
    }
   ],
   "source": [
    "confusion_matrix = confusion_matrix(Y,Y_pred)\n",
    "print(confusion_matrix)"
   ]
  },
  {
   "cell_type": "code",
   "execution_count": null,
   "id": "00574833",
   "metadata": {},
   "outputs": [],
   "source": []
  },
  {
   "cell_type": "code",
   "execution_count": null,
   "id": "13b140b0",
   "metadata": {},
   "outputs": [],
   "source": []
  },
  {
   "cell_type": "code",
   "execution_count": null,
   "id": "6172d81a",
   "metadata": {},
   "outputs": [],
   "source": []
  },
  {
   "cell_type": "code",
   "execution_count": null,
   "id": "d8bce99b",
   "metadata": {},
   "outputs": [],
   "source": []
  },
  {
   "cell_type": "code",
   "execution_count": null,
   "id": "ad9b8c35",
   "metadata": {},
   "outputs": [],
   "source": []
  }
 ],
 "metadata": {
  "kernelspec": {
   "display_name": "Python 3 (ipykernel)",
   "language": "python",
   "name": "python3"
  },
  "language_info": {
   "codemirror_mode": {
    "name": "ipython",
    "version": 3
   },
   "file_extension": ".py",
   "mimetype": "text/x-python",
   "name": "python",
   "nbconvert_exporter": "python",
   "pygments_lexer": "ipython3",
   "version": "3.9.7"
  }
 },
 "nbformat": 4,
 "nbformat_minor": 5
}
