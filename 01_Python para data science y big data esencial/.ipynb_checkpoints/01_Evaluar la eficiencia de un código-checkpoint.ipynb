{
 "cells": [
  {
   "cell_type": "markdown",
   "id": "3a7ac793",
   "metadata": {},
   "source": [
    "# Verificando que pyspark esta bien instalado"
   ]
  },
  {
   "cell_type": "code",
   "execution_count": 1,
   "id": "231bd747",
   "metadata": {},
   "outputs": [],
   "source": [
    "import findspark #pip install findspark\n",
    "findspark.init()\n",
    "\n",
    "import pyspark"
   ]
  },
  {
   "attachments": {},
   "cell_type": "markdown",
   "id": "1ee9e3fa",
   "metadata": {},
   "source": [
    "# Evaluar la eficiencia del código\n"
   ]
  },
  {
   "cell_type": "code",
   "execution_count": 2,
   "id": "76545726",
   "metadata": {},
   "outputs": [
    {
     "name": "stdout",
     "output_type": "stream",
     "text": [
      "1659726830.7535233\n",
      "1659726831.2548306\n",
      "0.5013072490692139\n"
     ]
    }
   ],
   "source": [
    "import time\n",
    "start = time.time()\n",
    "print(start)\n",
    "\n",
    "#Nuestro código\n",
    "time.sleep(0.5) #hacer dormir una parte del código\n",
    "end = time.time()\n",
    "print(end)\n",
    "\n",
    "print(end-start)"
   ]
  },
  {
   "cell_type": "code",
   "execution_count": 3,
   "id": "daf75e1d",
   "metadata": {},
   "outputs": [
    {
     "name": "stdout",
     "output_type": "stream",
     "text": [
      "0:00:01.016000\n"
     ]
    }
   ],
   "source": [
    "from datetime import timedelta\n",
    "start=time.monotonic()\n",
    "\n",
    "# nuestro código\n",
    "\n",
    "time.sleep(1)\n",
    "\n",
    "end = time.monotonic()\n",
    "print(timedelta(seconds =  end - start))"
   ]
  },
  {
   "cell_type": "code",
   "execution_count": 4,
   "id": "9f8f4e04",
   "metadata": {},
   "outputs": [
    {
     "name": "stdout",
     "output_type": "stream",
     "text": [
      "1659726832.287952\n",
      "1659726832.9077568\n",
      "0.619804859161377\n"
     ]
    }
   ],
   "source": [
    "import time\n",
    "start2 = time.time()\n",
    "print(start2)\n",
    "\n",
    "#Nuestro código\n",
    "time.sleep(0.6) #hacer dormir una parte del código\n",
    "end2 = time.time()\n",
    "print(end2)\n",
    "\n",
    "print(end2-start2)"
   ]
  },
  {
   "cell_type": "code",
   "execution_count": 5,
   "id": "8c3343fb",
   "metadata": {},
   "outputs": [
    {
     "name": "stdout",
     "output_type": "stream",
     "text": [
      "False\n"
     ]
    }
   ],
   "source": [
    "print(end2-start2>end-start)"
   ]
  }
 ],
 "metadata": {
  "kernelspec": {
   "display_name": "Python 3 (ipykernel)",
   "language": "python",
   "name": "python3"
  },
  "language_info": {
   "codemirror_mode": {
    "name": "ipython",
    "version": 3
   },
   "file_extension": ".py",
   "mimetype": "text/x-python",
   "name": "python",
   "nbconvert_exporter": "python",
   "pygments_lexer": "ipython3",
   "version": "3.9.7"
  }
 },
 "nbformat": 4,
 "nbformat_minor": 5
}
