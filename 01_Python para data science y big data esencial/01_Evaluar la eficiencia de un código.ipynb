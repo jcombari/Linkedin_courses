{
 "cells": [
  {
   "attachments": {},
   "cell_type": "markdown",
   "id": "2115af24",
   "metadata": {},
   "source": [
    "# Evaluar la eficiencia del código\n"
   ]
  },
  {
   "cell_type": "code",
   "execution_count": 1,
   "id": "2678cf8a",
   "metadata": {},
   "outputs": [
    {
     "name": "stdout",
     "output_type": "stream",
     "text": [
      "1659726596.5424743\n",
      "1659726597.0488193\n",
      "0.5063450336456299\n"
     ]
    }
   ],
   "source": [
    "import time\n",
    "start = time.time()\n",
    "print(start)\n",
    "\n",
    "#Nuestro código\n",
    "time.sleep(0.5) #hacer dormir una parte del código\n",
    "end = time.time()\n",
    "print(end)\n",
    "\n",
    "print(end-start)"
   ]
  },
  {
   "cell_type": "code",
   "execution_count": 2,
   "id": "a61db291",
   "metadata": {},
   "outputs": [
    {
     "name": "stdout",
     "output_type": "stream",
     "text": [
      "0:00:01.016000\n"
     ]
    }
   ],
   "source": [
    "from datetime import timedelta\n",
    "start=time.monotonic()\n",
    "\n",
    "# nuestro código\n",
    "\n",
    "time.sleep(1)\n",
    "\n",
    "end = time.monotonic()\n",
    "print(timedelta(seconds =  end - start))"
   ]
  },
  {
   "cell_type": "code",
   "execution_count": 3,
   "id": "b2ee6482",
   "metadata": {},
   "outputs": [
    {
     "name": "stdout",
     "output_type": "stream",
     "text": [
      "1659726598.0864787\n",
      "1659726598.6913385\n",
      "0.6048598289489746\n"
     ]
    }
   ],
   "source": [
    "import time\n",
    "start2 = time.time()\n",
    "print(start2)\n",
    "\n",
    "#Nuestro código\n",
    "time.sleep(0.6) #hacer dormir una parte del código\n",
    "end2 = time.time()\n",
    "print(end2)\n",
    "\n",
    "print(end2-start2)"
   ]
  },
  {
   "cell_type": "code",
   "execution_count": 4,
   "id": "68a530b7",
   "metadata": {},
   "outputs": [
    {
     "name": "stdout",
     "output_type": "stream",
     "text": [
      "False\n"
     ]
    }
   ],
   "source": [
    "print(end2-start2>end-start)"
   ]
  }
 ],
 "metadata": {
  "kernelspec": {
   "display_name": "Python 3 (ipykernel)",
   "language": "python",
   "name": "python3"
  },
  "language_info": {
   "codemirror_mode": {
    "name": "ipython",
    "version": 3
   },
   "file_extension": ".py",
   "mimetype": "text/x-python",
   "name": "python",
   "nbconvert_exporter": "python",
   "pygments_lexer": "ipython3",
   "version": "3.9.7"
  }
 },
 "nbformat": 4,
 "nbformat_minor": 5
}
