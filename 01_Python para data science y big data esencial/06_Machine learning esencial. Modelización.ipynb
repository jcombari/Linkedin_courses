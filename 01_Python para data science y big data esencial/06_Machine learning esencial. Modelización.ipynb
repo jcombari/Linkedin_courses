{
 "cells": [
  {
   "cell_type": "markdown",
   "id": "394bedc4",
   "metadata": {},
   "source": [
    "# Regresión líneal\n",
    "\n",
    "Relación de dependencia entre variables numéricas\n",
    "Objetivo minimizar la distancia cuadratico entre los puntos respecto a una recta.\n",
    "\n",
    "Supuestos:\n",
    "* Regresión lineal entre las variables , al incrementar en una unidad aumenta beta veces\n",
    "* Errores en la medición de las variables explicativas sean independientes\n",
    "* Errores varianza constantes (homocedasticos) si por ejemplo si predecimos los salarios en base la edad, los errores de ajustes son los mismos para gente joven como para adultos.\n",
    "* Los errores tienen esperanza cero\n",
    "* El error total es la suma de todos los errores"
   ]
  },
  {
   "cell_type": "code",
   "execution_count": null,
   "id": "de95db66",
   "metadata": {},
   "outputs": [],
   "source": [
    "import pandas as  pd\n",
    "import numpy as np\n",
    "from sklearn import datasets, linear_model\n",
    "from sklearn.metrics import mean_squared_error, r2_score\n",
    "import matplotlib.pyplot as plt\n",
    "df = pd.read_csv(\"C:/Users/jenny/Documents/GITHUB/Linkedin_courses_bbdd/base_datos_2008.csv\")\n"
   ]
  },
  {
   "cell_type": "code",
   "execution_count": null,
   "id": "f3f1ce0d",
   "metadata": {},
   "outputs": [],
   "source": [
    "df=df.dropna(subset=[\"ArrDelay\"])\n",
    "df=df.sample(frac=1).head(100000)\n",
    "Y=df[[\"ArrDelay\"]]\n",
    "X=df[[\"DepDelay\"]]"
   ]
  },
  {
   "cell_type": "code",
   "execution_count": null,
   "id": "9d43fe20",
   "metadata": {},
   "outputs": [],
   "source": [
    "df.columns"
   ]
  },
  {
   "cell_type": "code",
   "execution_count": null,
   "id": "0eeb3724",
   "metadata": {},
   "outputs": [],
   "source": [
    "regr = linear_model.LinearRegression()\n",
    "regr.fit(X,Y)\n",
    "\n",
    "print(\"Coeficientes: \", regr.coef_)\n",
    "Y_pred =regr.predict(X)\n",
    "print(\"R cuadrado: \", r2_score(Y,Y_pred)) # Porcentaje de varianza capturado por el modelo"
   ]
  },
  {
   "cell_type": "code",
   "execution_count": null,
   "id": "744a61e9",
   "metadata": {},
   "outputs": [],
   "source": [
    "plt.scatter(X[1:10000],Y[1:10000], color=\"black\")\n",
    "plt.plot(X[1:10000],Y[1:10000], color=\"Blue\")\n",
    "plt.show()"
   ]
  },
  {
   "cell_type": "code",
   "execution_count": null,
   "id": "d6a5717d",
   "metadata": {},
   "outputs": [],
   "source": [
    "#Para variables categóricas\n",
    "X=df[[\"AirTime\", \"Distance\",\"TaxiIn\",\"TaxiOut\"]]\n",
    "df[\"Month\"] = df[\"Month\"].apply(str)\n",
    "df[\"DayofMonth\"] = df[\"DayofMonth\"].apply(str)\n",
    "df[\"DayOfWeek\"] = df[\"DayOfWeek\"].apply(str)\n",
    "\n",
    "dummies = pd.get_dummies(data = df[[\"Month\",\"DayofMonth\",\"DayOfWeek\", \"Origin\",\"Dest\"]])\n",
    "X = dummies.add(X, fill_value=0)"
   ]
  },
  {
   "cell_type": "code",
   "execution_count": null,
   "id": "215814e2",
   "metadata": {},
   "outputs": [],
   "source": [
    "X.columns"
   ]
  },
  {
   "cell_type": "code",
   "execution_count": null,
   "id": "269db798",
   "metadata": {},
   "outputs": [],
   "source": [
    "regr= linear_model.LinearRegression()\n",
    "regr.fit(X,Y)\n",
    "Y_pred = regr.predict(X)\n",
    "print(\"R cuadrado: \", r2_score(Y,Y_pred))"
   ]
  },
  {
   "cell_type": "code",
   "execution_count": null,
   "id": "409edb20",
   "metadata": {},
   "outputs": [],
   "source": [
    "X = X.add(df[[\"DepDelay\"]], fill_value=0)"
   ]
  },
  {
   "cell_type": "code",
   "execution_count": null,
   "id": "2c5ea68d",
   "metadata": {},
   "outputs": [],
   "source": [
    "regr = linear_model.LinearRegression()\n",
    "regr.fit(X,Y)\n",
    "\n",
    "Y_pred = regr.predict(X)\n",
    "print(\"R cuadrado: \", r2_score(Y,Y_pred))"
   ]
  },
  {
   "cell_type": "markdown",
   "id": "129b9776",
   "metadata": {},
   "source": [
    "# Regresión logística\n",
    "\n",
    "Predice probabilidad\n",
    "Se utiliza como modelo binario\n",
    "\n",
    "Para obtener la probabilidad que ocurra una determinada cateoría se aplica función logística.\n",
    "\n"
   ]
  },
  {
   "cell_type": "code",
   "execution_count": null,
   "id": "6f6b0735",
   "metadata": {},
   "outputs": [],
   "source": [
    "import pandas as  pd\n",
    "import numpy as np\n",
    "from sklearn.linear_model import LogisticRegression\n",
    "from sklearn.metrics import confusion_matrix\n",
    "import matplotlib.pyplot as plt\n",
    "df = pd.read_csv(\"C:/Users/jenny/Documents/GITHUB/Linkedin_courses_bbdd/base_datos_2008.csv\")"
   ]
  },
  {
   "cell_type": "code",
   "execution_count": null,
   "id": "61715e6e",
   "metadata": {},
   "outputs": [],
   "source": [
    "df = df.dropna(subset=[\"ArrDelay\"])\n",
    "df = df.sample(frac=1).head(100000)\n",
    "Y=df[\"ArrDelay\"]<30\n",
    "X=df[[\"DepDelay\"]]"
   ]
  },
  {
   "cell_type": "code",
   "execution_count": null,
   "id": "c0ac8b8f",
   "metadata": {},
   "outputs": [],
   "source": [
    "logreg =LogisticRegression()\n",
    "logreg.fit(X,Y)\n",
    "Y_pred = logreg.predict(X)"
   ]
  },
  {
   "cell_type": "code",
   "execution_count": null,
   "id": "ee5e941a",
   "metadata": {},
   "outputs": [],
   "source": [
    "np.round(logreg.predict_proba(X),3)"
   ]
  },
  {
   "cell_type": "code",
   "execution_count": null,
   "id": "661f5816",
   "metadata": {},
   "outputs": [],
   "source": [
    "np.mean(Y_pred == Y)"
   ]
  },
  {
   "cell_type": "code",
   "execution_count": null,
   "id": "b475de63",
   "metadata": {},
   "outputs": [],
   "source": [
    "np.mean(Y)"
   ]
  },
  {
   "cell_type": "code",
   "execution_count": null,
   "id": "58c945bf",
   "metadata": {},
   "outputs": [],
   "source": [
    "confusion_matrix = confusion_matrix(Y,Y_pred)\n",
    "print(confusion_matrix)"
   ]
  },
  {
   "cell_type": "markdown",
   "id": "6b50229b",
   "metadata": {},
   "source": [
    "# Naives Bayes Classifier\n",
    "\n",
    "Supuesto: Todas las variables son independientes entre sí.\n",
    "Claramente falso.\n",
    "Funciona bien, aun fundamentandose en esto.\n",
    "\n",
    "Variables regresoras son gaussianas."
   ]
  },
  {
   "cell_type": "code",
   "execution_count": null,
   "id": "a3ec2a70",
   "metadata": {},
   "outputs": [],
   "source": [
    "import pandas as  pd\n",
    "import numpy as np\n",
    "from sklearn.naive_bayes import BernoulliNB\n",
    "from sklearn.naive_bayes import MultinomialNB\n",
    "from sklearn.naive_bayes import GaussianNB\n",
    "\n",
    "df = pd.read_csv(\"C:/Users/jenny/Documents/GITHUB/Linkedin_courses_bbdd/base_datos_2008.csv\")"
   ]
  },
  {
   "cell_type": "code",
   "execution_count": null,
   "id": "ebf31dd8",
   "metadata": {},
   "outputs": [],
   "source": [
    "df = df.dropna(subset = [\"ArrDelay\"])"
   ]
  },
  {
   "cell_type": "code",
   "execution_count": null,
   "id": "dd7637dd",
   "metadata": {},
   "outputs": [],
   "source": [
    "df = df.dropna(subset=[\"ArrDelay\"])"
   ]
  },
  {
   "cell_type": "code",
   "execution_count": null,
   "id": "b711d50c",
   "metadata": {},
   "outputs": [],
   "source": [
    "Y = df[\"ArrDelay\"]>0 #Variable respuesta todos aquellos vuelos que se demoraron algo"
   ]
  },
  {
   "cell_type": "code",
   "execution_count": null,
   "id": "e37524a6",
   "metadata": {},
   "outputs": [],
   "source": [
    "df[\"Month\"] = df[\"Month\"].apply(str)\n",
    "df[\"DayofMonth\"] = df[\"DayofMonth\"].apply(str)\n",
    "df[\"DayOfWeek\"] = df[\"DayOfWeek\"].apply(str)\n",
    "df[\"TailNum\"] = df[\"TailNum\"].apply(str)\n",
    "\n",
    "X=pd.get_dummies(data=df[[\"Month\", \"DayofMonth\",\"DayOfWeek\",\"Origin\",\"Dest\",\"UniqueCarrier\"]])"
   ]
  },
  {
   "cell_type": "code",
   "execution_count": null,
   "id": "c1e561bd",
   "metadata": {},
   "outputs": [],
   "source": [
    "X.head()"
   ]
  },
  {
   "cell_type": "markdown",
   "id": "e590a1de",
   "metadata": {},
   "source": [
    "clf=BernoulliNB() #contruimos el objeto\n",
    "clf.fit(X,Y)\n",
    "np.mean(Y== Y_pred)"
   ]
  },
  {
   "cell_type": "markdown",
   "id": "3b2944ce",
   "metadata": {},
   "source": [
    "1-np.mean()"
   ]
  },
  {
   "cell_type": "markdown",
   "id": "e194fc15",
   "metadata": {},
   "source": [
    "X=df[[\"AirTime\", \"Distance\",\"TaxiIn\", \"TaxiOut\"]]\n",
    "clf=GaussianNB()\n",
    "clf.fit(X,Y)\n",
    "Y_pred=clf.predict(X)"
   ]
  },
  {
   "cell_type": "markdown",
   "id": "c2bafe91",
   "metadata": {},
   "source": [
    "np.mean(Y==Y_pred)"
   ]
  },
  {
   "cell_type": "markdown",
   "id": "59263f84",
   "metadata": {},
   "source": [
    "# Random Forest\n",
    "\n",
    "La idea es seleccionar la variable la partición basada en la variable que mejor explique el fenomeno\n"
   ]
  },
  {
   "cell_type": "code",
   "execution_count": 2,
   "id": "68a031dc",
   "metadata": {},
   "outputs": [],
   "source": [
    "import pandas as  pd\n",
    "import numpy as np\n",
    "from sklearn import tree\n",
    "from sklearn.metrics import r2_score\n",
    "\n",
    "df = pd.read_csv(\"C:/Users/jenny/Documents/GITHUB/Linkedin_courses_bbdd/base_datos_2008.csv\")\n",
    "df = df.dropna(subset=[\"ArrDelay\"])\n",
    "df = df.sample(frac=1)\n",
    "dftest = df.tail(500000)\n",
    "df = df.head(500000)"
   ]
  },
  {
   "cell_type": "code",
   "execution_count": null,
   "id": "aa26ecc5",
   "metadata": {},
   "outputs": [],
   "source": [
    "cls = tree.DecisionTreeClassifier()\n",
    "X=df[[\"Distance\", \"AirTime\",\"DepTime\",\"TaxiIn\",\"TaxiOut\",\"DepDelay\"]]\n",
    "X_test=dftest[[\"Distance\", \"AirTime\",\"DepTime\",\"TaxiIn\",\"TaxiOut\",\"DepDelay\"]]\n",
    "Y=df[\"ArrDelay\"]>10\n",
    "Y_test = dftest[\"ArrDelay\"]>10\n",
    "\n",
    "clf=clf.fit(X,Y)\n",
    "Y_pred = clf.predict(X)\n",
    "Y_pred_test = clf.predict(X_test)"
   ]
  },
  {
   "cell_type": "markdown",
   "id": "878bb725",
   "metadata": {},
   "source": [
    "\n",
    "# Support vector machine"
   ]
  },
  {
   "cell_type": "markdown",
   "id": "c42e7e37",
   "metadata": {},
   "source": [
    "# K-nearest Neoghbours"
   ]
  },
  {
   "cell_type": "code",
   "execution_count": null,
   "id": "0aef310d",
   "metadata": {},
   "outputs": [],
   "source": []
  },
  {
   "cell_type": "code",
   "execution_count": null,
   "id": "f5b6851d",
   "metadata": {},
   "outputs": [],
   "source": []
  },
  {
   "cell_type": "code",
   "execution_count": null,
   "id": "51f3cf29",
   "metadata": {},
   "outputs": [],
   "source": []
  }
 ],
 "metadata": {
  "kernelspec": {
   "display_name": "Python 3 (ipykernel)",
   "language": "python",
   "name": "python3"
  },
  "language_info": {
   "codemirror_mode": {
    "name": "ipython",
    "version": 3
   },
   "file_extension": ".py",
   "mimetype": "text/x-python",
   "name": "python",
   "nbconvert_exporter": "python",
   "pygments_lexer": "ipython3",
   "version": "3.9.7"
  }
 },
 "nbformat": 4,
 "nbformat_minor": 5
}
