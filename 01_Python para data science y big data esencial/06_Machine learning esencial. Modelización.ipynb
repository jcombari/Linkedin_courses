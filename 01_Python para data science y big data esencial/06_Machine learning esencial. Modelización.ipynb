{
 "cells": [
  {
   "cell_type": "markdown",
   "id": "394bedc4",
   "metadata": {},
   "source": [
    "# Regresión líneal\n",
    "\n",
    "Relación de dependencia entre variables numéricas\n",
    "Objetivo minimizar la distancia cuadratico entre los puntos respecto a una recta.\n",
    "\n",
    "Supuestos:\n",
    "* Regresión lineal entre las variables , al incrementar en una unidad aumenta beta veces\n",
    "* Errores en la medición de las variables explicativas sean independientes\n",
    "* Errores varianza constantes (homocedasticos) si por ejemplo si predecimos los salarios en base la edad, los errores de ajustes son los mismos para gente joven como para adultos.\n",
    "* Los errores tienen esperanza cero\n",
    "* El error total es la suma de todos los errores"
   ]
  },
  {
   "cell_type": "code",
   "execution_count": 1,
   "id": "de95db66",
   "metadata": {},
   "outputs": [],
   "source": [
    "import pandas as  pd\n",
    "import numpy as np\n",
    "from sklearn import datasets, linear_model\n",
    "from sklearn.metrics import mean_squared_error, r2_score\n",
    "import matplotlib.pyplot as plt\n",
    "df = pd.read_csv(\"C:/Users/jenny/Documents/GITHUB/Linkedin_courses_bbdd/base_datos_2008.csv\")\n"
   ]
  },
  {
   "cell_type": "code",
   "execution_count": 2,
   "id": "f3f1ce0d",
   "metadata": {},
   "outputs": [],
   "source": [
    "df=df.dropna(subset=[\"ArrDelay\"])\n",
    "df=df.sample(frac=1).head(100000)\n",
    "Y=df[[\"ArrDelay\"]]\n",
    "X=df[[\"DepDelay\"]]"
   ]
  },
  {
   "cell_type": "code",
   "execution_count": 3,
   "id": "9d43fe20",
   "metadata": {},
   "outputs": [
    {
     "data": {
      "text/plain": [
       "Index(['Year', 'Month', 'DayofMonth', 'DayOfWeek', 'DepTime', 'CRSDepTime',\n",
       "       'ArrTime', 'CRSArrTime', 'UniqueCarrier', 'FlightNum', 'TailNum',\n",
       "       'ActualElapsedTime', 'CRSElapsedTime', 'AirTime', 'ArrDelay',\n",
       "       'DepDelay', 'Origin', 'Dest', 'Distance', 'TaxiIn', 'TaxiOut',\n",
       "       'Cancelled', 'CancellationCode', 'Diverted', 'CarrierDelay',\n",
       "       'WeatherDelay', 'NASDelay', 'SecurityDelay', 'LateAircraftDelay'],\n",
       "      dtype='object')"
      ]
     },
     "execution_count": 3,
     "metadata": {},
     "output_type": "execute_result"
    }
   ],
   "source": [
    "df.columns"
   ]
  },
  {
   "cell_type": "code",
   "execution_count": 4,
   "id": "0eeb3724",
   "metadata": {},
   "outputs": [
    {
     "name": "stdout",
     "output_type": "stream",
     "text": [
      "Coeficientes:  [[1.01848455]]\n",
      "R cuadrado:  0.8647772713865816\n"
     ]
    }
   ],
   "source": [
    "regr = linear_model.LinearRegression()\n",
    "regr.fit(X,Y)\n",
    "\n",
    "print(\"Coeficientes: \", regr.coef_)\n",
    "Y_pred =regr.predict(X)\n",
    "print(\"R cuadrado: \", r2_score(Y,Y_pred)) # Porcentaje de varianza capturado por el modelo"
   ]
  },
  {
   "cell_type": "code",
   "execution_count": 5,
   "id": "744a61e9",
   "metadata": {},
   "outputs": [
    {
     "data": {
      "image/png": "[encoded data removed]",
      "text/plain": [
       "<Figure size 432x288 with 1 Axes>"
      ]
     },
     "metadata": {
      "needs_background": "light"
     },
     "output_type": "display_data"
    }
   ],
   "source": [
    "plt.scatter(X[1:10000],Y[1:10000], color=\"black\")\n",
    "plt.plot(X[1:10000],Y[1:10000], color=\"Blue\")\n",
    "plt.show()"
   ]
  },
  {
   "cell_type": "code",
   "execution_count": 6,
   "id": "d6a5717d",
   "metadata": {},
   "outputs": [],
   "source": [
    "#Para variables categóricas\n",
    "X=df[[\"AirTime\", \"Distance\",\"TaxiIn\",\"TaxiOut\"]]\n",
    "df[\"Month\"] = df[\"Month\"].apply(str)\n",
    "df[\"DayofMonth\"] = df[\"DayofMonth\"].apply(str)\n",
    "df[\"DayOfWeek\"] = df[\"DayOfWeek\"].apply(str)\n",
    "\n",
    "dummies = pd.get_dummies(data = df[[\"Month\",\"DayofMonth\",\"DayOfWeek\", \"Origin\",\"Dest\"]])\n",
    "X = dummies.add(X, fill_value=0)"
   ]
  },
  {
   "cell_type": "code",
   "execution_count": 7,
   "id": "215814e2",
   "metadata": {},
   "outputs": [
    {
     "data": {
      "text/plain": [
       "Index(['AirTime', 'DayOfWeek_1', 'DayOfWeek_2', 'DayOfWeek_3', 'DayOfWeek_4',\n",
       "       'DayOfWeek_5', 'DayOfWeek_6', 'DayOfWeek_7', 'DayofMonth_1',\n",
       "       'DayofMonth_10',\n",
       "       ...\n",
       "       'Origin_VLD', 'Origin_VPS', 'Origin_WRG', 'Origin_WYS', 'Origin_XNA',\n",
       "       'Origin_YAK', 'Origin_YKM', 'Origin_YUM', 'TaxiIn', 'TaxiOut'],\n",
       "      dtype='object', length=649)"
      ]
     },
     "execution_count": 7,
     "metadata": {},
     "output_type": "execute_result"
    }
   ],
   "source": [
    "X.columns"
   ]
  },
  {
   "cell_type": "code",
   "execution_count": 8,
   "id": "269db798",
   "metadata": {},
   "outputs": [
    {
     "name": "stdout",
     "output_type": "stream",
     "text": [
      "R cuadrado:  0.18449603401705594\n"
     ]
    }
   ],
   "source": [
    "regr= linear_model.LinearRegression()\n",
    "regr.fit(X,Y)\n",
    "Y_pred = regr.predict(X)\n",
    "print(\"R cuadrado: \", r2_score(Y,Y_pred))"
   ]
  },
  {
   "cell_type": "code",
   "execution_count": 9,
   "id": "409edb20",
   "metadata": {},
   "outputs": [],
   "source": [
    "X = X.add(df[[\"DepDelay\"]], fill_value=0)"
   ]
  },
  {
   "cell_type": "code",
   "execution_count": 10,
   "id": "2c5ea68d",
   "metadata": {},
   "outputs": [
    {
     "name": "stdout",
     "output_type": "stream",
     "text": [
      "R cuadrado:  0.9705379392736293\n"
     ]
    }
   ],
   "source": [
    "regr = linear_model.LinearRegression()\n",
    "regr.fit(X,Y)\n",
    "\n",
    "Y_pred = regr.predict(X)\n",
    "print(\"R cuadrado: \", r2_score(Y,Y_pred))"
   ]
  },
  {
   "cell_type": "markdown",
   "id": "129b9776",
   "metadata": {},
   "source": [
    "# Regresión logística\n",
    "\n",
    "Predice probabilidad\n",
    "Se utiliza como modelo binario\n",
    "\n",
    "Para obtener la probabilidad que ocurra una determinada cateoría se aplica función logística.\n",
    "\n"
   ]
  },
  {
   "cell_type": "code",
   "execution_count": 11,
   "id": "6f6b0735",
   "metadata": {},
   "outputs": [],
   "source": [
    "import pandas as  pd\n",
    "import numpy as np\n",
    "from sklearn.linear_model import LogisticRegression\n",
    "from sklearn.metrics import confusion_matrix\n",
    "import matplotlib.pyplot as plt\n",
    "df = pd.read_csv(\"C:/Users/jenny/Documents/GITHUB/Linkedin_courses_bbdd/base_datos_2008.csv\")"
   ]
  },
  {
   "cell_type": "code",
   "execution_count": 12,
   "id": "61715e6e",
   "metadata": {},
   "outputs": [],
   "source": [
    "df = df.dropna(subset=[\"ArrDelay\"])\n",
    "df = df.sample(frac=1).head(100000)\n",
    "Y=df[\"ArrDelay\"]<30\n",
    "X=df[[\"DepDelay\"]]"
   ]
  },
  {
   "cell_type": "code",
   "execution_count": 13,
   "id": "c0ac8b8f",
   "metadata": {},
   "outputs": [],
   "source": [
    "logreg =LogisticRegression()\n",
    "logreg.fit(X,Y)\n",
    "Y_pred = logreg.predict(X)"
   ]
  },
  {
   "cell_type": "code",
   "execution_count": 14,
   "id": "ee5e941a",
   "metadata": {},
   "outputs": [
    {
     "data": {
      "text/plain": [
       "array([[0.013, 0.987],\n",
       "       [0.024, 0.976],\n",
       "       [0.015, 0.985],\n",
       "       ...,\n",
       "       [0.013, 0.987],\n",
       "       [0.011, 0.989],\n",
       "       [0.016, 0.984]])"
      ]
     },
     "execution_count": 14,
     "metadata": {},
     "output_type": "execute_result"
    }
   ],
   "source": [
    "np.round(logreg.predict_proba(X),3)"
   ]
  },
  {
   "cell_type": "code",
   "execution_count": 15,
   "id": "661f5816",
   "metadata": {},
   "outputs": [
    {
     "data": {
      "text/plain": [
       "0.9558"
      ]
     },
     "execution_count": 15,
     "metadata": {},
     "output_type": "execute_result"
    }
   ],
   "source": [
    "np.mean(Y_pred == Y)"
   ]
  },
  {
   "cell_type": "code",
   "execution_count": 16,
   "id": "b475de63",
   "metadata": {},
   "outputs": [
    {
     "data": {
      "text/plain": [
       "0.86491"
      ]
     },
     "execution_count": 16,
     "metadata": {},
     "output_type": "execute_result"
    }
   ],
   "source": [
    "np.mean(Y)"
   ]
  },
  {
   "cell_type": "code",
   "execution_count": 17,
   "id": "58c945bf",
   "metadata": {},
   "outputs": [
    {
     "name": "stdout",
     "output_type": "stream",
     "text": [
      "[[10101  3408]\n",
      " [ 1012 85479]]\n"
     ]
    }
   ],
   "source": [
    "confusion_matrix = confusion_matrix(Y,Y_pred)\n",
    "print(confusion_matrix)"
   ]
  },
  {
   "cell_type": "markdown",
   "id": "6b50229b",
   "metadata": {},
   "source": [
    "# Naives Bayes Classifier\n",
    "\n",
    "Supuesto: Todas las variables son independientes entre sí.\n",
    "Claramente falso.\n",
    "Funciona bien, aun fundamentandose en esto.\n",
    "\n",
    "Variables regresoras son gaussianas."
   ]
  },
  {
   "cell_type": "code",
   "execution_count": 18,
   "id": "a3ec2a70",
   "metadata": {},
   "outputs": [],
   "source": [
    "import pandas as  pd\n",
    "import numpy as np\n",
    "from sklearn.naive_bayes import BernoulliNB\n",
    "from sklearn.naive_bayes import MultinomialNB\n",
    "from sklearn.naive_bayes import GaussianNB\n",
    "\n",
    "df = pd.read_csv(\"C:/Users/jenny/Documents/GITHUB/Linkedin_courses_bbdd/base_datos_2008.csv\")"
   ]
  },
  {
   "cell_type": "code",
   "execution_count": 19,
   "id": "ebf31dd8",
   "metadata": {},
   "outputs": [],
   "source": [
    "df = df.dropna(subset = [\"ArrDelay\"])"
   ]
  },
  {
   "cell_type": "code",
   "execution_count": 20,
   "id": "dd7637dd",
   "metadata": {},
   "outputs": [],
   "source": [
    "df = df.dropna(subset=[\"ArrDelay\"])"
   ]
  },
  {
   "cell_type": "code",
   "execution_count": 21,
   "id": "b711d50c",
   "metadata": {},
   "outputs": [],
   "source": [
    "Y = df[\"ArrDelay\"]>0 #Variable respuesta todos aquellos vuelos que se demoraron algo"
   ]
  },
  {
   "cell_type": "code",
   "execution_count": 22,
   "id": "e37524a6",
   "metadata": {},
   "outputs": [],
   "source": [
    "df[\"Month\"] = df[\"Month\"].apply(str)\n",
    "df[\"DayofMonth\"] = df[\"DayofMonth\"].apply(str)\n",
    "df[\"DayOfWeek\"] = df[\"DayOfWeek\"].apply(str)\n",
    "df[\"TailNum\"] = df[\"TailNum\"].apply(str)\n",
    "\n",
    "X=pd.get_dummies(data=df[[\"Month\", \"DayofMonth\",\"DayOfWeek\",\"Origin\",\"Dest\",\"UniqueCarrier\"]])"
   ]
  },
  {
   "cell_type": "code",
   "execution_count": 23,
   "id": "c1e561bd",
   "metadata": {},
   "outputs": [
    {
     "data": {
      "text/html": [
       "<div>\n",
       "<style scoped>\n",
       "    .dataframe tbody tr th:only-of-type {\n",
       "        vertical-align: middle;\n",
       "    }\n",
       "\n",
       "    .dataframe tbody tr th {\n",
       "        vertical-align: top;\n",
       "    }\n",
       "\n",
       "    .dataframe thead th {\n",
       "        text-align: right;\n",
       "    }\n",
       "</style>\n",
       "<table border=\"1\" class=\"dataframe\">\n",
       "  <thead>\n",
       "    <tr style=\"text-align: right;\">\n",
       "      <th></th>\n",
       "      <th>Month_1</th>\n",
       "      <th>Month_10</th>\n",
       "      <th>Month_11</th>\n",
       "      <th>Month_12</th>\n",
       "      <th>Month_2</th>\n",
       "      <th>Month_3</th>\n",
       "      <th>Month_4</th>\n",
       "      <th>Month_5</th>\n",
       "      <th>Month_6</th>\n",
       "      <th>Month_7</th>\n",
       "      <th>...</th>\n",
       "      <th>UniqueCarrier_HA</th>\n",
       "      <th>UniqueCarrier_MQ</th>\n",
       "      <th>UniqueCarrier_NW</th>\n",
       "      <th>UniqueCarrier_OH</th>\n",
       "      <th>UniqueCarrier_OO</th>\n",
       "      <th>UniqueCarrier_UA</th>\n",
       "      <th>UniqueCarrier_US</th>\n",
       "      <th>UniqueCarrier_WN</th>\n",
       "      <th>UniqueCarrier_XE</th>\n",
       "      <th>UniqueCarrier_YV</th>\n",
       "    </tr>\n",
       "  </thead>\n",
       "  <tbody>\n",
       "    <tr>\n",
       "      <th>0</th>\n",
       "      <td>1</td>\n",
       "      <td>0</td>\n",
       "      <td>0</td>\n",
       "      <td>0</td>\n",
       "      <td>0</td>\n",
       "      <td>0</td>\n",
       "      <td>0</td>\n",
       "      <td>0</td>\n",
       "      <td>0</td>\n",
       "      <td>0</td>\n",
       "      <td>...</td>\n",
       "      <td>0</td>\n",
       "      <td>0</td>\n",
       "      <td>0</td>\n",
       "      <td>0</td>\n",
       "      <td>0</td>\n",
       "      <td>0</td>\n",
       "      <td>0</td>\n",
       "      <td>1</td>\n",
       "      <td>0</td>\n",
       "      <td>0</td>\n",
       "    </tr>\n",
       "    <tr>\n",
       "      <th>1</th>\n",
       "      <td>1</td>\n",
       "      <td>0</td>\n",
       "      <td>0</td>\n",
       "      <td>0</td>\n",
       "      <td>0</td>\n",
       "      <td>0</td>\n",
       "      <td>0</td>\n",
       "      <td>0</td>\n",
       "      <td>0</td>\n",
       "      <td>0</td>\n",
       "      <td>...</td>\n",
       "      <td>0</td>\n",
       "      <td>0</td>\n",
       "      <td>0</td>\n",
       "      <td>0</td>\n",
       "      <td>0</td>\n",
       "      <td>0</td>\n",
       "      <td>0</td>\n",
       "      <td>1</td>\n",
       "      <td>0</td>\n",
       "      <td>0</td>\n",
       "    </tr>\n",
       "    <tr>\n",
       "      <th>2</th>\n",
       "      <td>1</td>\n",
       "      <td>0</td>\n",
       "      <td>0</td>\n",
       "      <td>0</td>\n",
       "      <td>0</td>\n",
       "      <td>0</td>\n",
       "      <td>0</td>\n",
       "      <td>0</td>\n",
       "      <td>0</td>\n",
       "      <td>0</td>\n",
       "      <td>...</td>\n",
       "      <td>0</td>\n",
       "      <td>0</td>\n",
       "      <td>0</td>\n",
       "      <td>0</td>\n",
       "      <td>0</td>\n",
       "      <td>0</td>\n",
       "      <td>0</td>\n",
       "      <td>1</td>\n",
       "      <td>0</td>\n",
       "      <td>0</td>\n",
       "    </tr>\n",
       "    <tr>\n",
       "      <th>3</th>\n",
       "      <td>1</td>\n",
       "      <td>0</td>\n",
       "      <td>0</td>\n",
       "      <td>0</td>\n",
       "      <td>0</td>\n",
       "      <td>0</td>\n",
       "      <td>0</td>\n",
       "      <td>0</td>\n",
       "      <td>0</td>\n",
       "      <td>0</td>\n",
       "      <td>...</td>\n",
       "      <td>0</td>\n",
       "      <td>0</td>\n",
       "      <td>0</td>\n",
       "      <td>0</td>\n",
       "      <td>0</td>\n",
       "      <td>0</td>\n",
       "      <td>0</td>\n",
       "      <td>1</td>\n",
       "      <td>0</td>\n",
       "      <td>0</td>\n",
       "    </tr>\n",
       "    <tr>\n",
       "      <th>4</th>\n",
       "      <td>1</td>\n",
       "      <td>0</td>\n",
       "      <td>0</td>\n",
       "      <td>0</td>\n",
       "      <td>0</td>\n",
       "      <td>0</td>\n",
       "      <td>0</td>\n",
       "      <td>0</td>\n",
       "      <td>0</td>\n",
       "      <td>0</td>\n",
       "      <td>...</td>\n",
       "      <td>0</td>\n",
       "      <td>0</td>\n",
       "      <td>0</td>\n",
       "      <td>0</td>\n",
       "      <td>0</td>\n",
       "      <td>0</td>\n",
       "      <td>0</td>\n",
       "      <td>1</td>\n",
       "      <td>0</td>\n",
       "      <td>0</td>\n",
       "    </tr>\n",
       "  </tbody>\n",
       "</table>\n",
       "<p>5 rows × 675 columns</p>\n",
       "</div>"
      ],
      "text/plain": [
       "   Month_1  Month_10  Month_11  Month_12  Month_2  Month_3  Month_4  Month_5  \\\n",
       "0        1         0         0         0        0        0        0        0   \n",
       "1        1         0         0         0        0        0        0        0   \n",
       "2        1         0         0         0        0        0        0        0   \n",
       "3        1         0         0         0        0        0        0        0   \n",
       "4        1         0         0         0        0        0        0        0   \n",
       "\n",
       "   Month_6  Month_7  ...  UniqueCarrier_HA  UniqueCarrier_MQ  \\\n",
       "0        0        0  ...                 0                 0   \n",
       "1        0        0  ...                 0                 0   \n",
       "2        0        0  ...                 0                 0   \n",
       "3        0        0  ...                 0                 0   \n",
       "4        0        0  ...                 0                 0   \n",
       "\n",
       "   UniqueCarrier_NW  UniqueCarrier_OH  UniqueCarrier_OO  UniqueCarrier_UA  \\\n",
       "0                 0                 0                 0                 0   \n",
       "1                 0                 0                 0                 0   \n",
       "2                 0                 0                 0                 0   \n",
       "3                 0                 0                 0                 0   \n",
       "4                 0                 0                 0                 0   \n",
       "\n",
       "   UniqueCarrier_US  UniqueCarrier_WN  UniqueCarrier_XE  UniqueCarrier_YV  \n",
       "0                 0                 1                 0                 0  \n",
       "1                 0                 1                 0                 0  \n",
       "2                 0                 1                 0                 0  \n",
       "3                 0                 1                 0                 0  \n",
       "4                 0                 1                 0                 0  \n",
       "\n",
       "[5 rows x 675 columns]"
      ]
     },
     "execution_count": 23,
     "metadata": {},
     "output_type": "execute_result"
    }
   ],
   "source": [
    "X.head()"
   ]
  },
  {
   "cell_type": "markdown",
   "id": "e590a1de",
   "metadata": {},
   "source": [
    "clf=BernoulliNB() #contruimos el objeto\n",
    "clf.fit(X,Y)\n",
    "np.mean(Y== Y_pred)"
   ]
  },
  {
   "cell_type": "markdown",
   "id": "3b2944ce",
   "metadata": {},
   "source": [
    "1-np.mean()"
   ]
  },
  {
   "cell_type": "markdown",
   "id": "e194fc15",
   "metadata": {},
   "source": [
    "X=df[[\"AirTime\", \"Distance\",\"TaxiIn\", \"TaxiOut\"]]\n",
    "clf=GaussianNB()\n",
    "clf.fit(X,Y)\n",
    "Y_pred=clf.predict(X)"
   ]
  },
  {
   "cell_type": "markdown",
   "id": "c2bafe91",
   "metadata": {},
   "source": [
    "np.mean(Y==Y_pred)"
   ]
  },
  {
   "cell_type": "markdown",
   "id": "59263f84",
   "metadata": {},
   "source": [
    "# Random Forest\n",
    "\n",
    "La idea es seleccionar la variable la partición basada en la variable que mejor explique el fenomeno\n"
   ]
  },
  {
   "cell_type": "code",
   "execution_count": 30,
   "id": "68a031dc",
   "metadata": {},
   "outputs": [],
   "source": [
    "import pandas as  pd\n",
    "import numpy as np\n",
    "from sklearn import tree\n",
    "from sklearn.ensemble import RandomForestClassifier\n",
    "from sklearn.metrics import r2_score\n",
    "\n",
    "df = pd.read_csv(\"C:/Users/jenny/Documents/GITHUB/Linkedin_courses_bbdd/base_datos_2008.csv\")\n",
    "df = df.dropna(subset=[\"ArrDelay\"])\n",
    "df = df.sample(frac=1)\n",
    "dftest = df.tail(500000)\n",
    "df = df.head(500000)"
   ]
  },
  {
   "cell_type": "code",
   "execution_count": 26,
   "id": "aa26ecc5",
   "metadata": {},
   "outputs": [],
   "source": [
    "clf = tree.DecisionTreeClassifier()\n",
    "X=df[[\"Distance\", \"AirTime\",\"DepTime\",\"TaxiIn\",\"TaxiOut\",\"DepDelay\"]]\n",
    "X_test=dftest[[\"Distance\", \"AirTime\",\"DepTime\",\"TaxiIn\",\"TaxiOut\",\"DepDelay\"]]\n",
    "Y=df[\"ArrDelay\"]>10\n",
    "Y_test = dftest[\"ArrDelay\"]>10\n",
    "\n",
    "clf=clf.fit(X,Y)\n",
    "Y_pred = clf.predict(X)\n",
    "Y_pred_test = clf.predict(X_test)"
   ]
  },
  {
   "cell_type": "code",
   "execution_count": 28,
   "id": "9db0b7eb",
   "metadata": {},
   "outputs": [
    {
     "data": {
      "text/plain": [
       "0.893742"
      ]
     },
     "execution_count": 28,
     "metadata": {},
     "output_type": "execute_result"
    }
   ],
   "source": [
    "np.mean(Y_test == Y_pred_test)"
   ]
  },
  {
   "cell_type": "code",
   "execution_count": 31,
   "id": "4ff82a9e",
   "metadata": {},
   "outputs": [
    {
     "data": {
      "text/plain": [
       "array([0.09118693, 0.08030622, 0.08166735, 0.05144037, 0.13280447,\n",
       "       0.56259465])"
      ]
     },
     "execution_count": 31,
     "metadata": {},
     "output_type": "execute_result"
    }
   ],
   "source": [
    "clf = RandomForestClassifier(n_estimators=100, n_jobs=-1) #n_jobs=-1 se usa para indicar que debe utilizar todo los núcleos disponible sdel ordenador \n",
    "clf.fit(X,Y)\n",
    "Y_pred_test = clf.predict(X_test)\n",
    "\n",
    "clf.feature_importances_"
   ]
  },
  {
   "cell_type": "code",
   "execution_count": 32,
   "id": "19be624f",
   "metadata": {},
   "outputs": [
    {
     "data": {
      "text/plain": [
       "0.923736"
      ]
     },
     "execution_count": 32,
     "metadata": {},
     "output_type": "execute_result"
    }
   ],
   "source": [
    "np.mean(Y_test == Y_pred_test)"
   ]
  },
  {
   "cell_type": "markdown",
   "id": "878bb725",
   "metadata": {},
   "source": [
    "\n",
    "# Support vector machine"
   ]
  },
  {
   "cell_type": "code",
   "execution_count": null,
   "id": "8ac3bb06",
   "metadata": {},
   "outputs": [],
   "source": []
  },
  {
   "cell_type": "markdown",
   "id": "c42e7e37",
   "metadata": {},
   "source": [
    "# K-nearest Neoghbours"
   ]
  },
  {
   "cell_type": "code",
   "execution_count": null,
   "id": "0aef310d",
   "metadata": {},
   "outputs": [],
   "source": []
  },
  {
   "cell_type": "code",
   "execution_count": null,
   "id": "f5b6851d",
   "metadata": {},
   "outputs": [],
   "source": []
  },
  {
   "cell_type": "code",
   "execution_count": null,
   "id": "51f3cf29",
   "metadata": {},
   "outputs": [],
   "source": []
  }
 ],
 "metadata": {
  "kernelspec": {
   "display_name": "Python 3 (ipykernel)",
   "language": "python",
   "name": "python3"
  },
  "language_info": {
   "codemirror_mode": {
    "name": "ipython",
    "version": 3
   },
   "file_extension": ".py",
   "mimetype": "text/x-python",
   "name": "python",
   "nbconvert_exporter": "python",
   "pygments_lexer": "ipython3",
   "version": "3.9.7"
  }
 },
 "nbformat": 4,
 "nbformat_minor": 5
}
